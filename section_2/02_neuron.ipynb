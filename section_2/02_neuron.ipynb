{
  "nbformat": 4,
  "nbformat_minor": 0,
  "metadata": {
    "colab": {
      "name": "02_neuron.ipynb",
      "provenance": [],
      "collapsed_sections": [],
      "authorship_tag": "ABX9TyMCP5LY0SCX+wSNy9BVR1qt",
      "include_colab_link": true
    },
    "kernelspec": {
      "name": "python3",
      "display_name": "Python 3"
    },
    "language_info": {
      "name": "python"
    }
  },
  "cells": [
    {
      "cell_type": "markdown",
      "metadata": {
        "id": "view-in-github",
        "colab_type": "text"
      },
      "source": [
        "<a href=\"https://colab.research.google.com/github/yukinaga/minnano_dl/blob/main/section_2/02_neuron.ipynb\" target=\"_parent\"><img src=\"https://colab.research.google.com/assets/colab-badge.svg\" alt=\"Open In Colab\"/></a>"
      ]
    },
    {
      "cell_type": "markdown",
      "metadata": {
        "id": "8PEI59mRTLnr"
      },
      "source": [
        "# ニューロンの実装\n",
        "単一のニューロンを、Pythonのコードで実装します。"
      ]
    },
    {
      "cell_type": "markdown",
      "metadata": {
        "id": "lpBmr6FT1saP"
      },
      "source": [
        "## ニューロンを表す関数\n",
        "Pythonの関数を使って、単一のニューロンを実装します。  \n",
        "以下のコードは、入力`x`と重み`w`の各要素をかけ合わせて総和をとり、バイアスを足し合わせて`u`としています。  \n",
        "今回は活性化関数としてステップ関数を使うので、`u`の値が0より小さい時は出力`y`は0、それ以外の場合は1とします。\n"
      ]
    },
    {
      "cell_type": "code",
      "metadata": {
        "id": "TLtGSvz8aQ9_"
      },
      "source": [
        "import numpy as np\n",
        "import matplotlib.pyplot as plt\n",
        "\n",
        "def neuron(x, w, b):  # x:入力 w:重み b:バイアス\n",
        "    u = np.sum(x*w) - b\n",
        "    y = 0 if u < 0 else 1  # ステップ関数\n",
        "    return y"
      ],
      "execution_count": 16,
      "outputs": []
    },
    {
      "cell_type": "code",
      "metadata": {
        "id": "G2cA1xc4CZ8_"
      },
      "source": [
        "# 練習用\n"
      ],
      "execution_count": null,
      "outputs": []
    },
    {
      "cell_type": "markdown",
      "metadata": {
        "id": "IsDpdh7L59Ke"
      },
      "source": [
        "## ニューロンを使用する\n",
        "単一ニューロンの関数を使用し、様々な入力に対する反応を確認します。  \n",
        "以下のコードは2つの入力を用意し、それぞれを変化させてニューロンに入力し、出力を確認します。  \n",
        "出力は2次元配列に格納し、ライブラリmatplotlibを使って画像として表示します。\n",
        "\n",
        "\n"
      ]
    },
    {
      "cell_type": "code",
      "metadata": {
        "colab": {
          "base_uri": "https://localhost:8080/",
          "height": 269
        },
        "id": "YjvDtZQbbD66",
        "outputId": "67fff3ff-3038-4783-b04c-3976092c804e"
      },
      "source": [
        "steps = 20  # 入力を変化させるステップ数\n",
        "r = 1.0  # 入力を変化させる範囲（-1から1まで）\n",
        "\n",
        "X1 = np.linspace(-r, r, steps)  # 入力1\n",
        "X2 = np.linspace(-r, r, steps)  # 入力2\n",
        "image = np.zeros((steps, steps))  # 出力を格納する2次元配列\n",
        "\n",
        "w = np.array([-0.5, 0.5])  # 重み\n",
        "b = 0  # バイアス\n",
        "\n",
        "for i_1 in range(steps):  # 入力1を偏させる\n",
        "    for i_2 in range(steps):  # 入力2を変化させる\n",
        "        x = np.array([X1[i_1], X2[i_2]])  # 入力\n",
        "        image[i_1, i_2] = neuron(x, w, b)  # 出力を配列に格納\n",
        "\n",
        "plt.imshow(image, \"gray\", vmin=0.0, vmax=1.0)  # 配列を画像として表示\n",
        "plt.colorbar()\n",
        "plt.xticks([0, steps-1], [-r, r])  # x軸ラベルの表示\n",
        "plt.yticks([0, steps-1], [-r, r])  # y軸ラベルの表示\n",
        "plt.show()"
      ],
      "execution_count": 29,
      "outputs": [
        {
          "output_type": "display_data",
          "data": {
            "image/png": "[encoded data removed]",
            "text/plain": [
              "<Figure size 432x288 with 2 Axes>"
            ]
          },
          "metadata": {
            "tags": [],
            "needs_background": "light"
          }
        }
      ]
    },
    {
      "cell_type": "code",
      "metadata": {
        "id": "-iFHPJQR4-j1"
      },
      "source": [
        "# 練習用\n"
      ],
      "execution_count": null,
      "outputs": []
    }
  ]
}