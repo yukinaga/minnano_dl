{
  "nbformat": 4,
  "nbformat_minor": 0,
  "metadata": {
    "colab": {
      "name": "04_exercise.ipynb",
      "provenance": [],
      "collapsed_sections": [],
      "authorship_tag": "ABX9TyMtcPGU2fsdlsXC+ezcZcEY",
      "include_colab_link": true
    },
    "kernelspec": {
      "name": "python3",
      "display_name": "Python 3"
    }
  },
  "cells": [
    {
      "cell_type": "markdown",
      "metadata": {
        "id": "view-in-github",
        "colab_type": "text"
      },
      "source": [
        "<a href=\"https://colab.research.google.com/github/yukinaga/minnano_dl/blob/main/section_2/04_exercise.ipynb\" target=\"_parent\"><img src=\"https://colab.research.google.com/assets/colab-badge.svg\" alt=\"Open In Colab\"/></a>"
      ]
    },
    {
      "cell_type": "markdown",
      "metadata": {
        "id": "z8g5FUr1BPri"
      },
      "source": [
        "# 演習\n",
        "ニューラルネットワークに、層を1つ追加しましょう。"
      ]
    },
    {
      "cell_type": "markdown",
      "metadata": {
        "id": "OHuehCAzjyk-"
      },
      "source": [
        "以下は、前回のレクチャーで使用したニューラルネットワークのコードです。  \n"
      ]
    },
    {
      "cell_type": "code",
      "metadata": {
        "id": "OP17pYm78x94"
      },
      "source": [
        "import numpy as np\n",
        "import matplotlib.pyplot as plt  # グラフの表示に使用\n",
        "\n",
        "class NeuralNetwork():\n",
        "    def __init__(self, N, W, B):  # 初期化\n",
        "        self.params = [N, W, B]  # 各パラメータをまとめる\n",
        "\n",
        "    def neuron(self, x, w, b):  # ニューロンを表す関数\n",
        "        u = np.sum(x*w) - b\n",
        "        y = 0 if u < 0 else 1\n",
        "        return y\n",
        "\n",
        "    def __call__(self, x):  # NN全体の処理\n",
        "        N, W, B = self.params  # 各パラメータを取り出す\n",
        "\n",
        "        for i in range(len(N)):  # 各層の処理\n",
        "            n = N[i]  # 層のニューロン数\n",
        "            y= np.zeros(n)  # 出力を格納する配列\n",
        "            for j in range(n):  # 各ニューロンごとに\n",
        "                w = W[i][j]  # 重み\n",
        "                b = B[i][j]  # バイアス\n",
        "                y[j] = self.neuron(x, w, b)\n",
        "            x = y  # 次の層の入力\n",
        "        return y  # NN全体の出力"
      ],
      "execution_count": 1,
      "outputs": []
    },
    {
      "cell_type": "markdown",
      "metadata": {
        "id": "ZdLiWNceP38T"
      },
      "source": [
        "以下は、前回のレクチャーで使用したニューラルネットワークを使用するコードです。  \n",
        "このコードに変更を加えて、中間層を2つにしましょう。"
      ]
    },
    {
      "cell_type": "code",
      "metadata": {
        "id": "tW7xJABAPa98",
        "colab": {
          "base_uri": "https://localhost:8080/",
          "height": 269
        },
        "outputId": "79635059-73d0-46a5-c48b-e5b4bcafdb8a"
      },
      "source": [
        "steps = 20  # 入力を変化させるステップ数\n",
        "r = 1.0  # 入力を変化させる範囲（-1から1まで）\n",
        "\n",
        "X1 = np.linspace(-r, r, steps)  # 入力1\n",
        "X2 = np.linspace(-r, r, steps)  # 入力2\n",
        "image = np.zeros((steps, steps))  # 出力を格納する2次元配列\n",
        "\n",
        "N = [2, 1]  # 各層のニューロン数（中間層:2、出力層:1）\n",
        "W = [  # 重み\n",
        "     np.array([[4.0, 4.0], [4.0, 4.0]]),\n",
        "     np.array([[1.0, -1.0]])\n",
        "     ]\n",
        "B = [  # バイアス\n",
        "     np.array([2.0, -2.0]),\n",
        "     np.array([-0.5])\n",
        "     ]\n",
        "\n",
        "neural_network = NeuralNetwork(N, W, B)  # NNのインスタンス\n",
        "\n",
        "for i_1 in range(steps):  # 入力1を変化させる\n",
        "    for i_2 in range(steps):  # 入力2を変化させる\n",
        "        X = np.array([X1[i_1], X2[i_2]])  # 入力\n",
        "        image[i_1, i_2] = neural_network(X)  # 出力を配列に格納\n",
        "\n",
        "plt.imshow(image, \"gray\", vmin=0.0, vmax=1.0)  # 配列を画像として表示\n",
        "plt.colorbar()\n",
        "plt.xticks([0, steps-1], [-r, r])  # x軸ラベルの表示\n",
        "plt.yticks([0, steps-1], [-r, r])  # y軸ラベルの表示\n",
        "plt.show()"
      ],
      "execution_count": 25,
      "outputs": [
        {
          "output_type": "display_data",
          "data": {
            "image/png": "[encoded data removed]",
            "text/plain": [
              "<Figure size 432x288 with 2 Axes>"
            ]
          },
          "metadata": {
            "tags": [],
            "needs_background": "light"
          }
        }
      ]
    },
    {
      "cell_type": "markdown",
      "metadata": {
        "id": "o3vxFS_TTNg2"
      },
      "source": [
        "## 解答例\n",
        "以下は解答例です。"
      ]
    },
    {
      "cell_type": "code",
      "metadata": {
        "id": "0lYkydUmmM4h"
      },
      "source": [
        "steps = 20  # 入力を変化させるステップ数\n",
        "r = 1.0  # 入力を変化させる範囲（-1から1まで）\n",
        "\n",
        "X1 = np.linspace(-r, r, steps)  # 入力1\n",
        "X2 = np.linspace(-r, r, steps)  # 入力2\n",
        "image = np.zeros((steps, steps))  # 出力を格納する2次元配列\n",
        "\n",
        "N = [2, 2, 1]  # 各層のニューロン数\n",
        "W = [  # 重み\n",
        "     np.array([[4.0, 4.0], [4.0, -4.0]]),\n",
        "     np.array([[-4.0, 4.0], [-4.0, 4.0]]),\n",
        "     np.array([[1.0, -1.0]])\n",
        "     ]\n",
        "B = [  # バイアス\n",
        "     np.array([1.0, -1.0]),\n",
        "     np.array([1.0, -2.0]),\n",
        "     np.array([-0.5])\n",
        "     ]\n",
        "\n",
        "neural_network = NeuralNetwork(N, W, B)  # NNのインスタンス\n",
        "\n",
        "for i_1 in range(steps):  # 入力1を変化させる\n",
        "    for i_2 in range(steps):  # 入力2を変化させる\n",
        "        X = np.array([X1[i_1], X2[i_2]])  # 入力\n",
        "        image[i_1, i_2] = neural_network(X)  # 出力を配列に格納\n",
        "\n",
        "plt.imshow(image, \"gray\", vmin=0.0, vmax=1.0)  # 配列を画像として表示\n",
        "plt.colorbar()\n",
        "plt.xticks([0, steps-1], [-r, r])  # x軸ラベルの表示\n",
        "plt.yticks([0, steps-1], [-r, r])  # y軸ラベルの表示\n",
        "plt.show()"
      ],
      "execution_count": null,
      "outputs": []
    }
  ]
}