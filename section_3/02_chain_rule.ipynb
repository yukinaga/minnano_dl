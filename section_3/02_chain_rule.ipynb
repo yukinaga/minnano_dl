{
  "nbformat": 4,
  "nbformat_minor": 0,
  "metadata": {
    "kernelspec": {
      "display_name": "Python 3",
      "language": "python",
      "name": "python3"
    },
    "language_info": {
      "codemirror_mode": {
        "name": "ipython",
        "version": 3
      },
      "file_extension": ".py",
      "mimetype": "text/x-python",
      "name": "python",
      "nbconvert_exporter": "python",
      "pygments_lexer": "ipython3",
      "version": "3.7.1"
    },
    "colab": {
      "name": "02_chain_rule.ipynb",
      "provenance": [],
      "collapsed_sections": [],
      "include_colab_link": true
    }
  },
  "cells": [
    {
      "cell_type": "markdown",
      "metadata": {
        "id": "view-in-github",
        "colab_type": "text"
      },
      "source": [
        "<a href=\"https://colab.research.google.com/github/yukinaga/minnano_dl/blob/main/section_3/02_chain_rule.ipynb\" target=\"_parent\"><img src=\"https://colab.research.google.com/assets/colab-badge.svg\" alt=\"Open In Colab\"/></a>"
      ]
    },
    {
      "cell_type": "markdown",
      "metadata": {
        "id": "szqBOmUSm_pq"
      },
      "source": [
        "# 連鎖律\n",
        "連鎖律（chain rule）により、複数の関数からなる「合成関数」の微分が可能になります。  \n",
        "ニューラルネットワークは一種の合成関数なので、連鎖律により微分可能なことがあります。"
      ]
    },
    {
      "cell_type": "markdown",
      "metadata": {
        "id": "h9xDXkAZm_pr"
      },
      "source": [
        "## 合成関数とは？\n",
        "連鎖律を解説する前に、「合成関数」を説明します。  \n",
        "合成関数は、複数の関数の合成で表される関数のことです。   \n",
        "以下は合成関数の例ですす。  \n",
        "\n",
        "$$ \\begin{aligned} \\\\\n",
        "y & = f(u) \\\\\n",
        "u & = g(x) \\\\\n",
        "\\end{aligned} $$\n",
        "\n",
        "   \n",
        "例えば、関数 $y=(x^2+1)^3$ は、以下のような$u$を挟んだ合成関数と考えることができます。\n",
        "\n",
        "$$ \\begin{aligned} \\\\\n",
        "y &= u^3 \\\\\n",
        "u &= x^2+1 \\\\\n",
        "\\end{aligned} $$"
      ]
    },
    {
      "cell_type": "markdown",
      "metadata": {
        "id": "2ls-lXiQm_pr"
      },
      "source": [
        "## 連鎖律（chain rule）とは？\n",
        "合成関数の微分は、構成する各関数の導関数の積で表すことができます。これを「連鎖律」（chain rule）といいます。  \n",
        "連鎖律は以下の式で表されます。  \n",
        "\n",
        "（式 1）\n",
        "$$ \\frac{dy}{dx} = \\frac{dy}{du} \\frac{du}{dx} $$\n",
        "\n",
        "$y$が$u$の関数で、$u$が$x$の関数であるとき、この公式を用いて$y$を$x$で微分することができます。  \n",
        "例として、以下の関数を微分してみましょう。  \n",
        "\n",
        "$$ y=(x^3+2x^2+3x+4)^3 $$\n",
        "\n",
        "この式において、$u$を以下の通りに設定します。  \n",
        "\n",
        "$$ u=x^3+2x^2+3x+4 $$\n",
        "\n",
        "これにより、$y$を以下のように表すことができます。  \n",
        "\n",
        "$$ y=u^3 $$\n",
        "\n",
        "このとき、（式 1）の連鎖律の式を用いると、$y$を$x$で微分することができます。 \n",
        "\n",
        "$$ \\begin{aligned} \\\\\n",
        "\\frac{dy}{dx} & =\\frac{dy}{du} \\frac{du}{dx} \\\\\n",
        "& = 3u^2(3x^2+4x+3) \\\\\n",
        "& =3(x^3+2x^2+3x+4)^2(3x^2+4x+3) \n",
        "\\end{aligned} $$\n",
        "\n",
        "導関数を求めることができました。  \n",
        "以上のように、合成関数は連鎖律を用いることで微分することができます。   "
      ]
    },
    {
      "cell_type": "markdown",
      "metadata": {
        "id": "t1DZBWeTm_ps"
      },
      "source": [
        "## 連鎖律の証明\n",
        "連鎖律を証明します。  \n",
        "厳密な証明ではありませんが、連鎖律のイメージを把握することが重要です。\n",
        "\n",
        "$y=f(u)$、$u=g(x)$としたとき、$y$の$x$による導関数は次のようになります。\n",
        "\n",
        "$$ \\begin{aligned}\n",
        "\\frac{dy}{dx} & =\\lim_{\\Delta x \\to 0}\\frac{f(g(x+\\Delta x))-f(g(x))}{\\Delta x} \\\\\n",
        "& = \\lim_{\\Delta x \\to 0}(\\frac{f(g(x+\\Delta x))-f(g(x))}{g(x+\\Delta x)-g(x)} \\cdot \\frac{g(x+\\Delta x)-g(x)}{\\Delta x})\n",
        "\\end{aligned} $$\n",
        "\n",
        "ここで、$\\Delta u = g(x+\\Delta x)-g(x)$とおくと、$\\Delta x \\to 0$のとき、$\\Delta u \\to 0$なので、\n",
        "\n",
        "$$ \\begin{aligned}\n",
        "\\frac{dy}{dx} & = \\lim_{\\Delta x \\to 0}(\\frac{f(u+\\Delta u)-f(u)}{\\Delta u} \\cdot \\frac{\\Delta u}{\\Delta x}) \\\\\n",
        "& = \\lim_{\\Delta u \\to 0}(\\frac{f(u+\\Delta u)-f(u)}{\\Delta u}) \\cdot \\lim_{\\Delta x \\to 0} \\frac{\\Delta u}{\\Delta x} \\\\\n",
        "& =\\frac{dy}{du} \\frac{du}{dx}\n",
        "\\end{aligned} $$\n",
        "\n",
        "以上のように連鎖率が導かれます。  \n",
        "\n",
        "注：連鎖律を厳密に証明するためには、上記で$\\Delta u = g(x+\\Delta x)-g(x)$がある区間で0となってしまう場合も考慮する必要があります。この場合、分母が0になる問題に対処する必要があります。"
      ]
    }
  ]
}