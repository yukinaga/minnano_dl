{
  "nbformat": 4,
  "nbformat_minor": 0,
  "metadata": {
    "kernelspec": {
      "display_name": "Python 3",
      "language": "python",
      "name": "python3"
    },
    "language_info": {
      "codemirror_mode": {
        "name": "ipython",
        "version": 3
      },
      "file_extension": ".py",
      "mimetype": "text/x-python",
      "name": "python",
      "nbconvert_exporter": "python",
      "pygments_lexer": "ipython3",
      "version": "3.7.1"
    },
    "colab": {
      "name": "03_napier_sigmoid.ipynb",
      "provenance": [],
      "collapsed_sections": [],
      "include_colab_link": true
    }
  },
  "cells": [
    {
      "cell_type": "markdown",
      "metadata": {
        "id": "view-in-github",
        "colab_type": "text"
      },
      "source": [
        "<a href=\"https://colab.research.google.com/github/yukinaga/minnano_dl/blob/main/section_4/03_napier_sigmoid.ipynb\" target=\"_parent\"><img src=\"https://colab.research.google.com/assets/colab-badge.svg\" alt=\"Open In Colab\"/></a>"
      ]
    },
    {
      "cell_type": "markdown",
      "metadata": {
        "id": "uk5z9XeX3m6b"
      },
      "source": [
        "# ネイピア数とシグモイド関数\n",
        "ネイピア数を使った「シグモイド関数」は、活性化関数として使われることがあります。"
      ]
    },
    {
      "cell_type": "markdown",
      "metadata": {
        "id": "hhjY-hLm3m6d"
      },
      "source": [
        "## ネイピア数とは？\n",
        "\n",
        "「ネイピア数」$e$は、円周率$\\pi$のように無限に桁が続く小数です。\n",
        "\n",
        "$$e = 2.71828 18284 59045 23536 02874 71352 …$$ \n",
        "\n",
        "$e$の値ですが、次の極限として求めることができます。\n",
        "\n",
        "$$ e = \\lim_{n\\to \\infty}\\Bigl(1+\\frac{1}{n}\\Bigr)^n$$\n",
        "\n",
        "$\\Bigl(1+\\frac{1}{n}\\Bigr)^n$は$n$が大きくなると次第に$e$の値に近づきます。  \n",
        "これは、後ほど演習で確かめましょう。  \n",
        "\n",
        "ネイピア数は、以下のようなべき乗の形でよく使われます。\n",
        "\n",
        "（式 1）\n",
        "$$ y=e^x $$\n",
        "\n",
        "この関数は、以下に示すように微分しても式が変わらないという性質を持っています。\n",
        "\n",
        "$$ \\begin{aligned}\n",
        "\\frac{\\partial y}{\\partial x} &= \\lim_{\\Delta x \\to 0}\\frac{e^{x+\\Delta x}-e^x}{\\Delta x}  \\\\\n",
        "&= e^x\n",
        "\\end{aligned} $$\n",
        "\n",
        "この性質のためネイピア数は数学的に扱いやすく、ディープラーニングにおける様々な数式で使用されています。  \n",
        "\n",
        "（式 1）は以下のように表記することもあります。\n",
        "\n",
        "$$ y=\\exp(x) $$\n"
      ]
    },
    {
      "cell_type": "markdown",
      "metadata": {
        "id": "PdcLR3fj3m6e"
      },
      "source": [
        "## ネイピア数の取得\n",
        "ネイピア数は、NumPyにおいて`e`で取得することができます。  \n",
        "また、ネイピア数のべき乗はNumPyの`exp`関数で実装することができます。"
      ]
    },
    {
      "cell_type": "code",
      "metadata": {
        "id": "eZ3IDb4Y3m6f"
      },
      "source": [
        "import numpy as np\n",
        "\n",
        "print(np.e)  # ネイピア数\n",
        "print(np.exp(1))  #eの1乗"
      ],
      "execution_count": null,
      "outputs": []
    },
    {
      "cell_type": "markdown",
      "metadata": {
        "id": "OrETdJPp3m6k"
      },
      "source": [
        "次に、以下の式で表されるネイピア数のべき乗を描画します。 \n",
        "\n",
        "$$ y=\\exp(x) $$"
      ]
    },
    {
      "cell_type": "code",
      "metadata": {
        "id": "q-AfqZC43m6l"
      },
      "source": [
        "import numpy as np\n",
        "import matplotlib.pyplot as plt\n",
        "\n",
        "x = np.linspace(-2, 2)\n",
        "y = np.exp(x)  # ネイピア数のべき乗\n",
        "\n",
        "plt.plot(x, y)\n",
        "\n",
        "plt.xlabel(\"x\", size=14)\n",
        "plt.ylabel(\"y\", size=14)\n",
        "plt.grid()\n",
        "\n",
        "plt.show()"
      ],
      "execution_count": null,
      "outputs": []
    },
    {
      "cell_type": "markdown",
      "metadata": {
        "id": "I7NvaE3L3m6p"
      },
      "source": [
        "ネイピア数のべき乗は、$x$が0のとき$1$となり、$x$が1のときにネイピア数の値になります。  \n",
        "$x$が小さくなると0に近づき、$x$が大きくなるとともに増加率が増大します。  "
      ]
    },
    {
      "cell_type": "markdown",
      "metadata": {
        "id": "mgBH4Zcs3m61"
      },
      "source": [
        "## シグモイド関数\n",
        "ニューラルネットワークでは「シグモイド関数」というネイピア数を用いた関数がよく使われます。  \n",
        "シグモイド関数は以下の数式で表されます。  \n",
        "\n",
        "$$y = \\frac{1}{1+\\exp(-x)}$$ \n",
        "\n",
        "この関数を微分しましょう。  \n",
        "$u = 1+\\exp(-x)$とおくと、以下のように連鎖律を使って微分できます。\n",
        "\n",
        "$$ \\begin{aligned} \\\\\n",
        "\\frac{dy}{dx} & = \\frac{dy}{du}\\frac{du}{dx} \\\\\n",
        "& = \\frac{d}{du}(u^{-1})\\frac{d}{dx}(1+\\exp(-x)) \\\\\n",
        "& = (-u^{-2})(-\\exp(-x)) \\\\\n",
        "& = \\frac{\\exp(-x)}{(1+\\exp(-x))^2} \\\\\n",
        "& = \\Bigl( \\frac{\\exp(-x)}{1+\\exp(-x)} \\Bigr)\\Bigl( \\frac{1}{1+\\exp(-x)} \\Bigr) \\\\\n",
        "& = \\Bigl( \\frac{1+\\exp(-x)}{1+\\exp(-x)}-\\frac{1}{1+\\exp(-x)} \\Bigr)\\Bigl( \\frac{1}{1+\\exp(-x)} \\Bigr) \\\\\n",
        "& = (1-y)y\n",
        "\\end{aligned} $$\n",
        "\n",
        "シグモイド関数$y$の導関数は、$(1-y)y$となりましました。  \n",
        "導関数がシンプルなのも、シグモイド関数のメリットです。\n",
        "\n",
        "以下のコードでは、NumPyの`exp( )`関数を使ってシグモイド関数、およびその導関数を描画します。  "
      ]
    },
    {
      "cell_type": "code",
      "metadata": {
        "id": "IqlLmGHM3m63"
      },
      "source": [
        "import numpy as np\n",
        "import matplotlib.pylab as plt\n",
        "\n",
        "def sigmoid_function(x):  # シグモイド関数\n",
        "    return 1/(1+np.exp(-x))\n",
        "\n",
        "def grad_sigmoid(x):  # シグモイド関数の導関数\n",
        "    y = sigmoid_function(x)\n",
        "    return (1-y)*y\n",
        "\n",
        "x = np.linspace(-5, 5)\n",
        "y = sigmoid_function(x)\n",
        "y_grad = grad_sigmoid(x)\n",
        "\n",
        "plt.plot(x, y, label=\"y\")\n",
        "plt.plot(x, y_grad, label=\"y_grad\")\n",
        "plt.legend()\n",
        "\n",
        "plt.xlabel(\"x\", size=14)\n",
        "plt.ylabel(\"y\", size=14)\n",
        "plt.grid()\n",
        "\n",
        "plt.show()"
      ],
      "execution_count": null,
      "outputs": []
    },
    {
      "cell_type": "markdown",
      "metadata": {
        "id": "Zd29a7Qb3m67"
      },
      "source": [
        "シグモイド関数は$x$の値が小さくなると0に近づき、$x$の値が大きくなると1に近づきます。  \n",
        "このように、シグモイド関数により、入力を0と1の間の連続的な出力に変換することができます。  \n",
        "  \n",
        "導関数は、$x$が0のとき最大値の0.25をとり、0から離れるについれて0に近づいていきます。    \n",
        "  \n",
        "以前に扱った「ステップ関数」は以下の式で表されますが、この関数は微分することができません。  \n",
        "$$\n",
        "  y = \\begin{cases}\n",
        "    0 & (x \\leqq 0) \\\\\n",
        "    1 & (x > 0)\n",
        "  \\end{cases}\n",
        "$$\n",
        "\n",
        "従って、ニューラルネットワークがステップ関数を含む合成関数である場合、微分することはできません。\n",
        "しかしながら、シグモイド関数は微分可能あるため、合成関数に含まれていても微分を妨げることはありません。  \n",
        "そのため、学習可能なニューラルネットワークを構築する際に、シグモイド関数は活性化関数としてしばしば使われます。"
      ]
    }
  ]
}