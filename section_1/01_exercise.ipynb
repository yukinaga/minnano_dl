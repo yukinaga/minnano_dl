{
  "nbformat": 4,
  "nbformat_minor": 0,
  "metadata": {
    "colab": {
      "name": "01_exercise.ipynb",
      "provenance": [],
      "collapsed_sections": [],
      "authorship_tag": "ABX9TyNKlGb8PSkiD1n4QD2cFNfX",
      "include_colab_link": true
    },
    "kernelspec": {
      "name": "python3",
      "display_name": "Python 3"
    }
  },
  "cells": [
    {
      "cell_type": "markdown",
      "metadata": {
        "id": "view-in-github",
        "colab_type": "text"
      },
      "source": [
        "<a href=\"https://colab.research.google.com/github/yukinaga/minnano_dl/blob/main/section_1/01_exercise.ipynb\" target=\"_parent\"><img src=\"https://colab.research.google.com/assets/colab-badge.svg\" alt=\"Open In Colab\"/></a>"
      ]
    },
    {
      "cell_type": "markdown",
      "metadata": {
        "id": "z8g5FUr1BPri"
      },
      "source": [
        "# 演習\n",
        "本講座で使用する開発環境、Google Colaboratoryの使い方に慣れておきましょう。  \n",
        "今回は、Pythonの「関数」を練習します。"
      ]
    },
    {
      "cell_type": "markdown",
      "metadata": {
        "id": "OHuehCAzjyk-"
      },
      "source": [
        "以下のセルでは、足し算を行う関数`add( )`を記述し、使用しています。"
      ]
    },
    {
      "cell_type": "code",
      "metadata": {
        "id": "3iEXOSdljVZN"
      },
      "source": [
        "def add(a, b):\n",
        "    print(a + b)\n",
        "\n",
        "add(5, 2)"
      ],
      "execution_count": null,
      "outputs": []
    },
    {
      "cell_type": "markdown",
      "metadata": {
        "id": "pqPT4STAlQIJ"
      },
      "source": [
        "以下のセルにコードの追記を行い、**引き算**を行う関数`subtract( )`を実装しましょう。"
      ]
    },
    {
      "cell_type": "code",
      "metadata": {
        "id": "YYikkBYClqyc"
      },
      "source": [
        "# --- 以下に関数subtract( )を記述 ---\n",
        "\n",
        "\n",
        "# --- ここまで ---\n",
        "\n",
        "subtract(5, 2)"
      ],
      "execution_count": null,
      "outputs": []
    },
    {
      "cell_type": "markdown",
      "metadata": {
        "id": "o3vxFS_TTNg2"
      },
      "source": [
        "## 解答例\n",
        "以下は解答例です。"
      ]
    },
    {
      "cell_type": "code",
      "metadata": {
        "id": "0lYkydUmmM4h"
      },
      "source": [
        "# --- 以下に関数subtract( )を記述 ---\n",
        "def subtract(a, b):\n",
        "    print(a - b)\n",
        "# --- ここまで ---\n",
        "\n",
        "subtract(5, 2)"
      ],
      "execution_count": null,
      "outputs": []
    }
  ]
}