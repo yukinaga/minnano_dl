{
  "nbformat": 4,
  "nbformat_minor": 0,
  "metadata": {
    "colab": {
      "name": "03_exercise.ipynb",
      "provenance": [],
      "collapsed_sections": [],
      "authorship_tag": "ABX9TyObt1lzuSIRA5ixspFh751x",
      "include_colab_link": true
    },
    "kernelspec": {
      "name": "python3",
      "display_name": "Python 3"
    },
    "language_info": {
      "name": "python"
    }
  },
  "cells": [
    {
      "cell_type": "markdown",
      "metadata": {
        "id": "view-in-github",
        "colab_type": "text"
      },
      "source": [
        "<a href=\"https://colab.research.google.com/github/yukinaga/minnano_dl/blob/main/section_3/03_exercise.ipynb\" target=\"_parent\"><img src=\"https://colab.research.google.com/assets/colab-badge.svg\" alt=\"Open In Colab\"/></a>"
      ]
    },
    {
      "cell_type": "markdown",
      "metadata": {
        "id": "YtDZ_6sROn2O"
      },
      "source": [
        "# 演習\n",
        "「微分」および「連鎖律」の扱いに慣れていきましょう。"
      ]
    },
    {
      "cell_type": "markdown",
      "metadata": {
        "id": "rxniBi2DPIxY"
      },
      "source": [
        "## 1. 導関数を求める\n",
        "\n",
        "以下の関数を$x$で微分してください。  \n",
        "\n",
        "$$ y=2x^3-4x-7 $$\n",
        "\n",
        "答えは紙に書いても、テキストセルにLaTeXで記述してもかまいません。"
      ]
    },
    {
      "cell_type": "markdown",
      "metadata": {
        "id": "PLfIA0YcbBhO"
      },
      "source": [
        "## 2. 接線の描画\n",
        "以下のセルのコードを補完し、関数$y=-2x^2+x+3$の曲線の、$x=1$における接線を描画しましょう。"
      ]
    },
    {
      "cell_type": "code",
      "metadata": {
        "id": "jaT6wDT7bBhO"
      },
      "source": [
        "import numpy as np\n",
        "import matplotlib.pyplot as plt\n",
        "\n",
        "def my_func(x):\n",
        "    return -2*x**2 + x + 3\n",
        "\n",
        "def my_func_dif(x):  # 導関数\n",
        "    return    # コードを補完する\n",
        "\n",
        "x = np.linspace(-3, 3)\n",
        "y = my_func(x)\n",
        "\n",
        "a = 1\n",
        "y_t = my_func_dif(a)*x + my_func(a) - my_func_dif(a)*a  # x=1のときの接線\n",
        "\n",
        "plt.plot(x, y, label=\"y\")\n",
        "plt.plot(x, y_t, label=\"y_t\")\n",
        "\n",
        "plt.xlabel(\"x\", size=14)\n",
        "plt.ylabel(\"y\", size=14)\n",
        "plt.grid()\n",
        "\n",
        "plt.legend()\n",
        "plt.show()"
      ],
      "execution_count": null,
      "outputs": []
    },
    {
      "cell_type": "markdown",
      "metadata": {
        "id": "QbyHnPXISLQI"
      },
      "source": [
        "## 3. 連鎖律 \n",
        "\n",
        "以下の合成関数の導関数を、連鎖律を使って求めましょう。  \n",
        "\n",
        "$$ y=(x^2+4x+1)^4 $$\n",
        "\n",
        "答えは紙に書いても、テキストセルにLaTeXで記述してもかまいません。  \n",
        "また、答えは()の表記を無くすように展開しなくてもかまいません。"
      ]
    },
    {
      "cell_type": "markdown",
      "metadata": {
        "id": "o3vxFS_TTNg2"
      },
      "source": [
        "## 解答例\n",
        "以下は解答例です。"
      ]
    },
    {
      "cell_type": "markdown",
      "metadata": {
        "id": "Lzxm09GWQxFl"
      },
      "source": [
        "### 1. 導関数を求める\n",
        "\n",
        "$$ \\begin{aligned} \\\\\n",
        "\\frac{dy}{dx} & = \\frac{d}{dx}(2x^3)-\\frac{d}{dx}(4x^1)-\\frac{d}{dx}(7x^0) \\\\\n",
        "& = 2\\frac{d}{dx}(x^3)-4\\frac{d}{dx}(x^1)-7\\frac{d}{dx}(x^0) \\\\\n",
        "& = 6x^2-4 \\\\\n",
        "\\end{aligned} $$"
      ]
    },
    {
      "cell_type": "markdown",
      "metadata": {
        "id": "GaZm9tAkT4lV"
      },
      "source": [
        "### 2. 接線の描画"
      ]
    },
    {
      "cell_type": "code",
      "metadata": {
        "id": "6ta9EzN3bBhP"
      },
      "source": [
        "import numpy as np\n",
        "import matplotlib.pyplot as plt\n",
        "\n",
        "def my_func(x):\n",
        "    return -2*x**2 + x + 3\n",
        "\n",
        "def my_func_dif(x):  # 導関数\n",
        "    return -4*x + 1\n",
        "\n",
        "x = np.linspace(-3, 3)\n",
        "y = my_func(x)\n",
        "\n",
        "a = 1\n",
        "y_t = my_func_dif(a)*x + my_func(a) - my_func_dif(a)*a  # x=1のときの接線\n",
        "\n",
        "plt.plot(x, y, label=\"y\")\n",
        "plt.plot(x, y_t, label=\"y_t\")\n",
        "\n",
        "plt.xlabel(\"x\", size=14)\n",
        "plt.ylabel(\"y\", size=14)\n",
        "plt.grid()\n",
        "\n",
        "plt.legend()\n",
        "plt.show()"
      ],
      "execution_count": null,
      "outputs": []
    },
    {
      "cell_type": "markdown",
      "metadata": {
        "id": "EDMYpI7cm_ps"
      },
      "source": [
        "### 3. 連鎖律 \n",
        "\n",
        "$$ u=x^2+4x+1 $$  \n",
        "$$ y=u^4 $$\n",
        "\n",
        "とおくと、連鎖律を使って以下のように導関数を得ることができます。\n",
        "\n",
        "$$ \\begin{aligned} \\\\\n",
        "\\frac{dy}{dx} & =\\frac{dy}{du} \\frac{du}{dx} \\\\\n",
        "& = 4u^3(2x+4) \\\\\n",
        "& =4(x^2+4x+1)^3(2x+4) \n",
        "\\end{aligned} $$"
      ]
    }
  ]
}