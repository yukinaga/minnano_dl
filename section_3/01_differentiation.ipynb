{
  "nbformat": 4,
  "nbformat_minor": 0,
  "metadata": {
    "kernelspec": {
      "display_name": "Python 3",
      "language": "python",
      "name": "python3"
    },
    "language_info": {
      "codemirror_mode": {
        "name": "ipython",
        "version": 3
      },
      "file_extension": ".py",
      "mimetype": "text/x-python",
      "name": "python",
      "nbconvert_exporter": "python",
      "pygments_lexer": "ipython3",
      "version": "3.7.1"
    },
    "colab": {
      "name": "01_differentiation.ipynb",
      "provenance": [],
      "collapsed_sections": [],
      "include_colab_link": true
    }
  },
  "cells": [
    {
      "cell_type": "markdown",
      "metadata": {
        "id": "view-in-github",
        "colab_type": "text"
      },
      "source": [
        "<a href=\"https://colab.research.google.com/github/yukinaga/minnano_dl/blob/main/section_3/01_differentiation.ipynb\" target=\"_parent\"><img src=\"https://colab.research.google.com/assets/colab-badge.svg\" alt=\"Open In Colab\"/></a>"
      ]
    },
    {
      "cell_type": "markdown",
      "metadata": {
        "id": "by-Gj9TQbBhG"
      },
      "source": [
        "# 微分の基礎\n",
        "「微分」の概念を理解しましょう。  \n",
        "微分とは、ある関数上の各点における変化の割合のことで、ディープラーニングにおいて頻繁に使用します。"
      ]
    },
    {
      "cell_type": "markdown",
      "metadata": {
        "id": "4PqTO-UrxvGg"
      },
      "source": [
        "## 関数とは？\n",
        "関数とは、ある値$x$を決めると、それにともない値$y$が決まる関係のことです。  \n",
        "例えば、$x$を決めると$y$の値が決定される時、関数$f$を次のように表すことができます。  \n",
        "$$y=f(x)$$\n",
        "これは、$y$が$x$の関数である、ということを意味します。\n",
        "\n",
        "以下に、関数$y=f(x)$の例を示します。\n",
        "\n",
        "$$y=3x$$\n",
        "$$y=3x^2+2x+1$$\n",
        "$$y=\\frac{1}{x}$$\n",
        "\n",
        "これらは全て、$x$の値を決めることで$y$の値が決まります。"
      ]
    },
    {
      "cell_type": "markdown",
      "metadata": {
        "id": "tO0x2tYIbBhL"
      },
      "source": [
        "## 極限とは？\n",
        "\n",
        "「極限」とは、関数における変数の値をある値に近づけるとき、関数の値が限りなく近づく値のことです。  \n",
        "例として、関数$y=x^2+1$において、$x$を徐々に「0」に近づけるケースを考えます。  \n",
        "\n",
        "$x=2$のとき、$y=5$  \n",
        "$x=1$のとき、$y=2$  \n",
        "$x=0.5$のとき、$y=1.25$  \n",
        "$x=0.1$のとき、$y=1.01$  \n",
        "$x=0.01$のとき、$y=1.0001$  \n",
        "\n",
        "このように、$x$を0に近づけると$y$は1に近づいていきます。  \n",
        "これは、次のように式で表すことができます。  \n",
        "\n",
        "$$\\lim_{x\\to 0}y = \\lim_{x\\to 0}(x^2+1)=1$$\n",
        "\n",
        "この式は、「$x$を限りなく0に近づけたとき、$y$が限りなく1に近づく」ということを意味します。\n",
        "$y=x^2+1$を描画し、この関数上で$x$が0に近づく様子を観察しましょう。"
      ]
    },
    {
      "cell_type": "code",
      "metadata": {
        "id": "mjUfR1YWG60o"
      },
      "source": [
        "import numpy as np\n",
        "import matplotlib.pyplot as plt\n",
        "\n",
        "# y=x^2+1の描画\n",
        "x = np.linspace(-3, 3)\n",
        "y = x**2 + 1  # y=x^2+1\n",
        "plt.plot(x, y, linestyle=\"dashed\")  # 点線で描画\n",
        "\n",
        "# xを0に近づける\n",
        "x_lim = np.array([2, 1, 0.5, 0.1, 0.01, 0.001])\n",
        "y_lim = x_lim**2 + 1  # y=x^2+1\n",
        "plt.scatter(x_lim, y_lim)  # 散布図で表示\n",
        "\n",
        "plt.xlabel(\"x\", size=14)\n",
        "plt.ylabel(\"y\", size=14)\n",
        "plt.grid()\n",
        "\n",
        "plt.show()"
      ],
      "execution_count": null,
      "outputs": []
    },
    {
      "cell_type": "markdown",
      "metadata": {
        "id": "VWzn7rWGbBhL"
      },
      "source": [
        "## 微分とは？\n",
        "関数$y=f(x)$において、$x$の微小な変化量を$\\Delta x$とすると、$x$を$\\Delta x$だけ変化させた際の$y$の値は次のようになります。  \n",
        "\n",
        "$$y=f(x+\\Delta x)$$  \n",
        "\n",
        "このとき、$y$の微小な変化量は次の通りです。\n",
        "\n",
        "$$\\Delta y=f(x+\\Delta x)-f(x)$$  \n",
        "\n",
        "従って、$y$の微小な変化$\\Delta y$と$x$の微小な変化$\\Delta x$の割合は、次の式で表されます。\n",
        "\n",
        "$$ \\frac{\\Delta y}{\\Delta x}=\\frac{f(x+\\Delta x)-f(x)}{\\Delta x} $$\n",
        "\n",
        "この式で、$\\Delta x$の値を0に限りなく近づける極限を考えます。  \n"
      ]
    },
    {
      "cell_type": "code",
      "metadata": {
        "id": "s4XEcCuybR_z"
      },
      "source": [
        "import numpy as np\n",
        "import matplotlib.pyplot as plt\n",
        "\n",
        "def my_func(x):  # y=x^2+1を表す関数\n",
        "    y = x**2 + 1\n",
        "    return y\n",
        "\n",
        "x = np.linspace(-3, 3)\n",
        "y = my_func(x)\n",
        "plt.plot(x, y, label=\"y\", linestyle=\"dashed\")\n",
        "\n",
        "delta_x = 0.01  # 0に近い⊿xの値\n",
        "delta_y = my_func(x+delta_x) - my_func(x)  # ⊿y\n",
        "delta_y_delta_x = delta_y / delta_x  # ⊿x/⊿y\n",
        "plt.plot(x, delta_y_delta_x, label=\"⊿y/⊿x\")\n",
        "\n",
        "plt.legend()\n",
        "\n",
        "plt.xlabel(\"x\", size=14)\n",
        "plt.ylabel(\"y\", size=14)\n",
        "plt.grid()\n",
        "\n",
        "plt.show()"
      ],
      "execution_count": null,
      "outputs": []
    },
    {
      "cell_type": "markdown",
      "metadata": {
        "id": "YenlbOQeaTzK"
      },
      "source": [
        "$\\frac{\\Delta y}{\\Delta x}$は、$y=x^2+1$がどの程度「傾いて」いるかを表します。\n",
        "これの極限は、新たな関数$f'(x)$として表すことができます。  \n",
        "\n",
        "$$ f'(x) = \\lim_{\\Delta x \\to 0}\\frac{f(x+\\Delta x)-f(x)}{\\Delta x} $$\n",
        "\n",
        "この関数$f'(x)$を、$f(x)$の「導関数」といいます。  \n",
        "そして、関数$f(x)$から導関数$f'(x)$を得ることを、関数$f(x)$を「微分」する、といいます。\n",
        "\n",
        "導関数は以下のように表記することもあります。  \n",
        "\n",
        "$$ f'(x) = \\frac{df(x)}{dx} = \\frac{d}{dx} f(x) $$\n",
        "\n",
        "導関数により、関数上のある点における傾き（勾配）の大きさを求めることができます。  \n",
        "関数$f(x)$上のある点、$(a, f(a))$における傾きの大きさは、$f'(a)$となります。  "
      ]
    },
    {
      "cell_type": "markdown",
      "metadata": {
        "id": "_JahlH07bBhM"
      },
      "source": [
        "## 微分の公式\n",
        "いくつかの関数は、微分の公式を用いることで簡単に導関数を求めることができます。  \n",
        "以下に、微分の公式をいくつか紹介します。各公式の証明はここでは行いませんので、興味のある方は各自調べましょう。 \n",
        "\n",
        "$r$を任意の実数として$f(x) = x^r$としたとき、以下が成り立ちます 。 \n",
        "\n",
        "（公式 1）\n",
        "$$ \\frac{d}{dx}f(x) = \\frac{d}{dx}x^r = rx^{r-1} $$\n",
        "\n",
        "また、関数の和$f(x)+g(x)$を微分する際は、それぞれを微分して足し合わせます。  \n",
        "\n",
        "（公式 2）\n",
        "$$ \\frac{d}{dx}(f(x)+g(x)) = \\frac{d}{dx}f(x)+\\frac{d}{dx}g(x) $$\n",
        "\n",
        "関数の積$f(x)g(x)$は、次のように微分することができます。  \n",
        "\n",
        "（公式 3）\n",
        "$$ \\frac{d}{dx}(f(x)g(x)) = f(x)\\frac{d}{dx}g(x)+g(x)\\frac{d}{dx}f(x) $$\n",
        "\n",
        "定数は、微分の外に出ることができます。$k$を任意の実数としたとき、以下の公式が成り立ちます。 \n",
        "\n",
        "（公式 4）\n",
        "$$ \\frac{d}{dx}kf(x) = k\\frac{d}{dx}f(x) $$\n",
        "\n",
        "それでは、例として以下の関数を微分してみましょう。  \n",
        "\n",
        "$$ f(x)=3x^2+4x-5 $$\n",
        "\n",
        "この関数は、（公式 1）（公式 2）（公式 4）を組み合わせて、以下のように微分することができます。\n",
        "\n",
        "$$ \\begin{aligned} \\\\\n",
        "f'(x) & = \\frac{d}{dx}(3x^2)+\\frac{d}{dx}(4x^1)-\\frac{d}{dx}(5x^0) \\\\\n",
        "& = 3\\frac{d}{dx}(x^2)+4\\frac{d}{dx}(x^1)-5\\frac{d}{dx}(x^0) \\\\\n",
        "& = 6x+4 \\\\\n",
        "\\end{aligned} $$\n",
        "\n",
        "以上のように、公式を組み合わせることで様々な関数の導関数を求めることができます。"
      ]
    },
    {
      "cell_type": "markdown",
      "metadata": {
        "id": "XpdfYszcbBhM"
      },
      "source": [
        "## 接線の描画\n",
        "\n",
        "関数$y=f(x)$の曲線に、$x=a$で接する直線（接線）は、以下の式で表されます。\n",
        "\n",
        "$$y=f'(a)x+f(a)-f'(a)a$$\n",
        "\n",
        "この式の$x$に$a$を代入すると、$y$が$f(a)$に等しくなることが確認できます。  \n",
        "上記の接線の式を使って、関数$f(x)=3x^2+4x-5$の、$x=1$における接線を描画します。"
      ]
    },
    {
      "cell_type": "code",
      "metadata": {
        "id": "oG8rRr1lbBhM"
      },
      "source": [
        "import numpy as np\n",
        "import matplotlib.pyplot as plt\n",
        "\n",
        "def my_func(x):\n",
        "    return 3*x**2 + 4*x - 5\n",
        "\n",
        "def my_func_dif(x):  # 導関数\n",
        "    return 6*x + 4\n",
        "\n",
        "x = np.linspace(-3, 3)\n",
        "y = my_func(x)\n",
        "\n",
        "a = 1\n",
        "y_t = my_func_dif(a)*x + my_func(a) - my_func_dif(a)*a  # x=1のときの接線\n",
        "plt.plot(x, y, label=\"y\", linestyle=\"dashed\")\n",
        "plt.plot(x, y_t, label=\"y_t\")\n",
        "plt.legend()\n",
        "\n",
        "plt.xlabel(\"x\", size=14)\n",
        "plt.ylabel(\"y\", size=14)\n",
        "plt.grid()\n",
        "\n",
        "plt.show()"
      ],
      "execution_count": null,
      "outputs": []
    },
    {
      "cell_type": "markdown",
      "metadata": {
        "id": "0FOdq-_mbBhO"
      },
      "source": [
        "導関数を使って、接線を描画することができました。  \n",
        "ディープラーニングでは、このような局所的な「傾き」を使って、「重み」や「バイアス」がニューラルネットワーク全体の結果に及ぼす影響を計算します。"
      ]
    }
  ]
}