{
  "nbformat": 4,
  "nbformat_minor": 0,
  "metadata": {
    "colab": {
      "name": "04_exercise.ipynb",
      "provenance": [],
      "collapsed_sections": [],
      "authorship_tag": "ABX9TyO2xjb5PBXoeYJOmjTTd1t+",
      "include_colab_link": true
    },
    "kernelspec": {
      "name": "python3",
      "display_name": "Python 3"
    },
    "language_info": {
      "name": "python"
    }
  },
  "cells": [
    {
      "cell_type": "markdown",
      "metadata": {
        "id": "view-in-github",
        "colab_type": "text"
      },
      "source": [
        "<a href=\"https://colab.research.google.com/github/yukinaga/minnano_dl/blob/main/section_4/04_exercise.ipynb\" target=\"_parent\"><img src=\"https://colab.research.google.com/assets/colab-badge.svg\" alt=\"Open In Colab\"/></a>"
      ]
    },
    {
      "cell_type": "markdown",
      "metadata": {
        "id": "YtDZ_6sROn2O"
      },
      "source": [
        "# 演習\n",
        "偏微分、勾配降下法、ネイピア数の扱いに慣れていきましょう。"
      ]
    },
    {
      "cell_type": "markdown",
      "metadata": {
        "id": "fNfpSw4bJya-"
      },
      "source": [
        "## 1. 偏導関数を求める\n",
        "以下の2変数関数を、$x$及び$y$で偏微分しましょう。  \n",
        "\n",
        "$$ f(x,y)=2x^3+4x^2y+xy^2-4y^2 $$\n",
        "\n",
        "答えは紙に書いても、テキストセルにLaTeXで記述してもかまいません。"
      ]
    },
    {
      "cell_type": "markdown",
      "metadata": {
        "id": "fQUBFOuKsd_R"
      },
      "source": [
        "## 2. 局所的な最小値からの脱出\n",
        "以下の勾配降下法のコードを実行すると、局所的な最小値に捕獲されてしまいます。  \n",
        "`x`の初期値を変更して、全体の最小値にたどり着けるようにしましょう。"
      ]
    },
    {
      "cell_type": "code",
      "metadata": {
        "id": "nGVPvHpEsd_S"
      },
      "source": [
        "import numpy as np\n",
        "import matplotlib.pyplot as plt\n",
        "\n",
        "def my_func(x):  # 最小値を求める関数\n",
        "    return x**4 - 2*x**3 - 3*x**2 + 2*x\n",
        "\n",
        "def grad_func(x):  # 導関数\n",
        "    return 4*x**3 - 6*x**2 - 6*x + 2\n",
        "\n",
        "eta = 0.01  # 定数\n",
        "x = -1.6  # === ここで、xの初期値を変更する ===\n",
        "record_x = []  # xの記録\n",
        "record_y = []  # yの記録\n",
        "for i in range(20):  # 20回xを更新する\n",
        "    y = my_func(x)\n",
        "    record_x.append(x)\n",
        "    record_y.append(y)\n",
        "    x -= eta * grad_func(x)  # （式1）\n",
        "\n",
        "x_f = np.linspace(-1.6, 2.8)  # 表示範囲\n",
        "y_f = my_func(x_f)  \n",
        "\n",
        "plt.plot(x_f, y_f, linestyle=\"dashed\")  # 関数を点線で描画\n",
        "plt.scatter(record_x, record_y)  # xとyの記録を点で表示\n",
        "\n",
        "plt.xlabel(\"x\", size=14)\n",
        "plt.ylabel(\"y\", size=14)\n",
        "plt.grid()\n",
        "\n",
        "plt.show()"
      ],
      "execution_count": null,
      "outputs": []
    },
    {
      "cell_type": "markdown",
      "metadata": {
        "id": "AC8-a8eL3m67"
      },
      "source": [
        "## 3. ネイピア数を求める\n",
        "以下の数式における$n$の値を少しずつ大きくして、$a_n$の値がネイピア数に近づくことをコードで確認しましょう。\n",
        "\n",
        "$$ a_n = \\Bigl(1+\\frac{1}{n}\\Bigr)^n$$"
      ]
    },
    {
      "cell_type": "code",
      "metadata": {
        "id": "AqTnTwlH3m68"
      },
      "source": [
        "# ネイピア数: e = 2.71828 18284 59045 23536 02874 71352 …\n",
        "\n",
        "import numpy as np\n",
        "\n",
        "def approach_napier(n):\n",
        "    return (1 + 1/n)**n\n",
        "\n",
        "n_list = [2, 4, 10]  # このリストにさらに大きな値を追加する\n",
        "for n in n_list:\n",
        "    print(\"a_\"+ str(n) + \" =\", approach_napier(n))"
      ],
      "execution_count": null,
      "outputs": []
    },
    {
      "cell_type": "markdown",
      "metadata": {
        "id": "o3vxFS_TTNg2"
      },
      "source": [
        "## 解答例\n",
        "以下は解答例です。"
      ]
    },
    {
      "cell_type": "markdown",
      "metadata": {
        "id": "b-LinZYBJya_"
      },
      "source": [
        "### 1. 偏導関数を求める\n",
        "\n",
        "$$ \\frac{\\partial}{\\partial x}f(x,y) = 6x^2+8xy+y^2$$\n",
        "\n",
        "$$ \\frac{\\partial}{\\partial y}f(x,y) = 4x^2+2xy-8y$$"
      ]
    },
    {
      "cell_type": "markdown",
      "metadata": {
        "id": "e1cWAFk2sd_U"
      },
      "source": [
        "### 2. 局所的な最小値からの脱出\n"
      ]
    },
    {
      "cell_type": "code",
      "metadata": {
        "id": "2b-oXJ8psd_V"
      },
      "source": [
        "import numpy as np\n",
        "import matplotlib.pyplot as plt\n",
        "\n",
        "def my_func(x):  # 最小値を求める関数\n",
        "    return x**4 - 2*x**3 - 3*x**2 + 2*x\n",
        "\n",
        "def grad_func(x):  # 導関数\n",
        "    return 4*x**3 - 6*x**2 - 6*x + 2\n",
        "\n",
        "eta = 0.01  # 定数\n",
        "x = 1.0  # === ここで、xの初期値を変更する ===\n",
        "record_x = []  # xの記録\n",
        "record_y = []  # yの記録\n",
        "for i in range(20):  # 20回xを更新する\n",
        "    y = my_func(x)\n",
        "    record_x.append(x)\n",
        "    record_y.append(y)\n",
        "    x -= eta * grad_func(x)  # （式1）\n",
        "\n",
        "x_f = np.linspace(-1.6, 2.8)  # 表示範囲\n",
        "y_f = my_func(x_f)  \n",
        "\n",
        "plt.plot(x_f, y_f, linestyle=\"dashed\")  # 関数を点線で表示\n",
        "plt.scatter(record_x, record_y)  # xとyの記録を表示\n",
        "\n",
        "plt.xlabel(\"x\", size=14)\n",
        "plt.ylabel(\"y\", size=14)\n",
        "plt.grid()\n",
        "\n",
        "plt.show()"
      ],
      "execution_count": null,
      "outputs": []
    },
    {
      "cell_type": "markdown",
      "metadata": {
        "id": "oRUbC-Am3m6_"
      },
      "source": [
        "### 3. ネイピア数を求める\n"
      ]
    },
    {
      "cell_type": "code",
      "metadata": {
        "id": "TNt4U7xe3m6_"
      },
      "source": [
        "# ネイピア数: e = 2.71828 18284 59045 23536 02874 71352 …\n",
        "\n",
        "import numpy as np\n",
        "\n",
        "def approach_napier(n):\n",
        "    return (1 + 1/n)**n\n",
        "\n",
        "n_list = [2, 4, 10, 100, 1000, 10000]  # このリストにさらに大きな数を追加する\n",
        "for n in n_list:\n",
        "    print(\"a_\"+ str(n) + \" =\", approach_napier(n))"
      ],
      "execution_count": null,
      "outputs": []
    }
  ]
}