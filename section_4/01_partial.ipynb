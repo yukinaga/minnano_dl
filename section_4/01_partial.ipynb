{
  "nbformat": 4,
  "nbformat_minor": 0,
  "metadata": {
    "kernelspec": {
      "display_name": "Python 3",
      "language": "python",
      "name": "python3"
    },
    "language_info": {
      "codemirror_mode": {
        "name": "ipython",
        "version": 3
      },
      "file_extension": ".py",
      "mimetype": "text/x-python",
      "name": "python",
      "nbconvert_exporter": "python",
      "pygments_lexer": "ipython3",
      "version": "3.7.1"
    },
    "colab": {
      "name": "01_partial.ipynb",
      "provenance": [],
      "collapsed_sections": [],
      "include_colab_link": true
    }
  },
  "cells": [
    {
      "cell_type": "markdown",
      "metadata": {
        "id": "view-in-github",
        "colab_type": "text"
      },
      "source": [
        "<a href=\"https://colab.research.google.com/github/yukinaga/minnano_dl/blob/main/section_4/01_partial.ipynb\" target=\"_parent\"><img src=\"https://colab.research.google.com/assets/colab-badge.svg\" alt=\"Open In Colab\"/></a>"
      ]
    },
    {
      "cell_type": "markdown",
      "metadata": {
        "id": "y9mkrcI8Jya7"
      },
      "source": [
        "# 偏微分\n",
        "偏微分では、多変数関数を1つの変数により微分します。  \n",
        "ディープラーニングにおいて、1つのパラメータの変化が結果におよぼす影響を求めるのに使います。"
      ]
    },
    {
      "cell_type": "markdown",
      "metadata": {
        "id": "xCYt-_5wpLTw"
      },
      "source": [
        "## 多変数関数\n",
        "\n",
        "変数を2つ以上持つような関数のことを、「多変数関数」といいます。  \n",
        "以下は多変数関数の例です。  \n",
        "\n",
        "$$f(x, y)=3x+y$$\n",
        "$$f(x, y)=x^2+2xy+\\frac{1}{y}$$\n",
        "$$f(x, y, z)=x^2+2xy+3y^2+4yz+5z^2$$\n",
        "\n",
        "多変数関数は、以下のように添字をつけた変数を使って表記されることがあります。  \n",
        "\n",
        "$$f(X) = f(x_1,x_2,\\cdots, x_i,\\cdots, x_n)$$\n",
        "\n",
        "以下のコードは、多変数関数  \n",
        "$$f(x, y)=x^4 + 2x^3y - 3x^2y - 2x + y -1$$\n",
        "を$x$、$y$ともに変化させて描画します。"
      ]
    },
    {
      "cell_type": "code",
      "metadata": {
        "id": "EM-xUW6AagOl"
      },
      "source": [
        "import numpy as np\n",
        "import matplotlib.pyplot as plt\n",
        "\n",
        "def my_func(x, y):  # 描画する関数\n",
        "    return x**4 + 2*x**3*y - 3*x**2*y - 2*x + y -1\n",
        "\n",
        "ys = [-2, -1, 0 ,1, 2]  # yの値\n",
        "xs = np.linspace(-1, 1.5)  # xの値\n",
        "\n",
        "for y in ys:\n",
        "    f_xy = my_func(xs, y)  # f(x, y)\n",
        "    plt.plot(xs, f_xy, label=\"y=\"+str(y), linestyle=\"dashed\")\n",
        "\n",
        "plt.xlabel(\"x\", size=14)\n",
        "plt.ylabel(\"f(x, y)\", size=14)\n",
        "plt.legend()\n",
        "plt.grid()\n",
        "\n",
        "plt.show()"
      ],
      "execution_count": null,
      "outputs": []
    },
    {
      "cell_type": "markdown",
      "metadata": {
        "id": "mrA9Va4GJya9"
      },
      "source": [
        "## 偏微分とは？\n",
        "複数の変数を持つ関数に対する、1つの変数のみによる微分を「偏微分」といいます。  \n",
        "偏微分の場合、他の変数は定数として扱います。  \n",
        "例えば、2変数からなる関数$f(x,y)$の偏微分は、以下のように表すことができます。  \n",
        "\n",
        "$$ \\frac{\\partial}{\\partial x}f(x,y) = \\lim_{\\Delta x \\to 0}\\frac{f(x+\\Delta x,y)-f(x,y)}{\\Delta x} $$\n",
        "\n",
        "$x$のみ微小量$\\Delta x$だけ変化させて、$\\Delta x$を限りなく0に近づけます。  \n",
        "$y$は微小変化しないので、偏微分の際は定数のように扱うことができます。  "
      ]
    },
    {
      "cell_type": "markdown",
      "metadata": {
        "id": "MudFnS7KJya-"
      },
      "source": [
        "## 偏微分の例\n",
        "例として、次のような変数$x$、$y$を持つ関数$f(x,y)$を考えてみましょう。  \n",
        "\n",
        "$$ f(x,y)=3x^2+4xy+5y^3 $$\n",
        "\n",
        "この関数を偏微分します。偏微分の際は$y$を定数として扱い、微分の公式を用いて$x$で微分します。  \n",
        "これにより、以下の式を得ることができます。  \n",
        "偏微分では$d$ではなく$\\partial$の記号を使います。\n",
        "\n",
        "$$ \\frac{\\partial}{\\partial x}f(x,y) = 6x+4y $$\n",
        "\n",
        "このような、偏微分により求めた関数を「偏導関数」といいます。  \n",
        "この場合、偏導関数は$y$の値を固定した際の、$x$の変化に対する$f(x,y)$の変化の割合になります。  \n",
        "\n",
        "$f(x,y)$の$y$による偏微分は以下の通りです。この場合、$x$は定数として扱います。  \n",
        "\n",
        "$$ \\frac{\\partial}{\\partial y}f(x,y) = 4x+15y^2 $$\n",
        "\n",
        "これは、$x$の値を固定した際の、$y$の変化に対する$f(x,y)$の変化の割合になります。　\n",
        "\n",
        "偏微分を用いることで、特定のパラーメータの微小な変化が、結果へ及ぼす影響を予測することができます。"
      ]
    },
    {
      "cell_type": "markdown",
      "metadata": {
        "id": "XpdfYszcbBhM"
      },
      "source": [
        "## 偏導関数を利用した接線の描画\n",
        "\n",
        "多変数関数$f(x, y)$で$y$を固定し、接線を描画しましょう。  \n",
        "\n",
        "$$f(x, y)=x^4 + 2x^3y - 3x^2y - 2x + y -1$$\n",
        "\n",
        "において、$y=2$に固定し、$x=-0.5$における接線を描画します。  \n",
        "\n",
        "$x$による偏微分は以下の通りです。  \n",
        "$$ \\frac{\\partial}{\\partial x}f(x,y) = 4x^3+6x^2y-6xy-2 $$"
      ]
    },
    {
      "cell_type": "code",
      "metadata": {
        "id": "BMnLX4UWRi6_"
      },
      "source": [
        "import numpy as np\n",
        "import matplotlib.pyplot as plt\n",
        "\n",
        "def my_func(x, y):  # 描画する関数\n",
        "    return x**4 + 2*x**3*y - 3*x**2*y - 2*x + y -1\n",
        "\n",
        "def my_func_dif(x, y):  # 導関数\n",
        "    return 4*x**3 + 6*x**2*y - 6*x*y -2\n",
        "\n",
        "ys = [-2, -1, 0 ,1, 2]  # yの値\n",
        "xs = np.linspace(-1, 1.5)  # xの値\n",
        "\n",
        "for y in ys:\n",
        "    f_xy = my_func(xs, y)  # f(x, y)\n",
        "    plt.plot(xs, f_xy, label=\"y=\"+str(y), linestyle=\"dashed\")\n",
        "\n",
        "a = -0.5  # 接点におけるxの値\n",
        "b = 2  # yの値\n",
        "f_xy_t = my_func_dif(a, b)*xs + my_func(a, b) - my_func_dif(a, b)*a  # 接線の式\n",
        "plt.plot(xs, f_xy_t, label=\"f_xy_t\")\n",
        "\n",
        "plt.xlabel(\"x\", size=14)\n",
        "plt.ylabel(\"f(x, y)\", size=14)\n",
        "plt.legend()\n",
        "plt.grid()\n",
        "\n",
        "plt.show()"
      ],
      "execution_count": null,
      "outputs": []
    }
  ]
}